{
  "cells": [
    {
      "cell_type": "code",
      "execution_count": null,
      "metadata": {
        "id": "yA4FBFzDxqwV"
      },
      "outputs": [],
      "source": [
        "import numpy as np\n",
        "from scipy import stats"
      ]
    },
    {
      "cell_type": "code",
      "execution_count": null,
      "metadata": {
        "id": "HZwtco8hcA0c"
      },
      "outputs": [],
      "source": [
        " BaselineTabNet = [\n",
        "  0.22203, 0.20471, 0.18966, 0.17742, 0.23834, 0.21151, 0.21501, 0.18919,\n",
        "  0.15931, 0.17442, 0.17028, 0.15097, 0.20784, 0.18394, 0.16149, 0.13777,\n",
        "  0.15798, 0.15775, 0.16094, 0.15493\n",
        "]\n",
        "\n",
        " TabNetOptuna = [\n",
        "  0.30229, 0.23261, 0.25863, 0.25282, 0.22882, 0.32317, 0.26431, 0.24862,\n",
        "  0.25205, 0.27205, 0.27965, 0.32152, 0.30657, 0.26384, 0.27898, 0.2569,\n",
        "  0.21703, 0.24322, 0.2455, 0.29646\n",
        "]\n",
        "\n",
        "BaselineTabNetSMOTE = [\n",
        "  0.16117, 0.18254, 0.19168, 0.12763, 0.17833, 0.13153, 0.14477, 0.13352,\n",
        "  0.12791, 0.16533, 0.12839, 0.16393, 0.11364, 0.12528, 0.16857, 0.19882,\n",
        "  0.16536, 0.21331, 0.12881, 0.16357\n",
        "]\n",
        "\n",
        "SMOTETabNetOptuna = [\n",
        "  0.35061, 0.37471, 0.34594, 0.2987, 0.37107, 0.37233, 0.31768, 0.29409,\n",
        "  0.31202, 0.30013, 0.3397, 0.31746, 0.40138, 0.29832, 0.28194, 0.26937,\n",
        "  0.34932, 0.32076, 0.25094, 0.33715\n",
        "]\n",
        "\n"
      ]
    },
    {
      "cell_type": "code",
      "execution_count": null,
      "metadata": {},
      "outputs": [],
      "source": [
        "#variance"
      ]
    },
    {
      "cell_type": "code",
      "execution_count": null,
      "metadata": {
        "id": "-PUmMpo7xvsg"
      },
      "outputs": [],
      "source": [
        "varience_baseline_tabnet = np.var(BaselineTabNet)\n",
        "varience_tabnet_optuna = np.var(TabNetOptuna)\n",
        "varience_SMOTE_baseline_tabnet = np.var(BaselineTabNetSMOTE)\n",
        "varience_SMOTE_tabnet_optuna = np.var(SMOTETabNetOptuna)"
      ]
    },
    {
      "cell_type": "code",
      "execution_count": null,
      "metadata": {
        "colab": {
          "base_uri": "https://localhost:8080/"
        },
        "id": "klDjfuhQx6Dl",
        "outputId": "b82bfdb0-863f-4b3b-b77b-324f5a467090"
      },
      "outputs": [
        {
          "name": "stdout",
          "output_type": "stream",
          "text": [
            "variant baseline TabNet : 0.00072179636475\n",
            "variant tabnet + optuna : 0.0008625573459999999\n",
            "variant smote + baseline tabnet : 0.0007567866247499998\n",
            "variant smote + tabnet + optuna : 0.001421226559\n"
          ]
        }
      ],
      "source": [
        "print(f\"variant baseline TabNet : {varience_baseline_tabnet}\")\n",
        "print(f\"variant tabnet + optuna : {varience_tabnet_optuna}\")\n",
        "print(f\"variant smote + baseline tabnet : {varience_SMOTE_baseline_tabnet}\")\n",
        "print(f\"variant smote + tabnet + optuna : {varience_SMOTE_tabnet_optuna}\")"
      ]
    },
    {
      "cell_type": "code",
      "execution_count": null,
      "metadata": {
        "id": "ufW2KCyXzE1-"
      },
      "outputs": [],
      "source": [
        "# t-stat dan p_value"
      ]
    },
    {
      "cell_type": "code",
      "execution_count": null,
      "metadata": {
        "id": "rte5q8df2YJ2"
      },
      "outputs": [],
      "source": [
        "t_stat_BaselineTabNet_TabNetOptuna, p_value_BaselineTabNet_TabNetOptuna = stats.ttest_rel(BaselineTabNet, TabNetOptuna)\n",
        "t_stat_BaselineTabNetSMOTE_SMOTETabNetOptuna, p_value_BaselineTabNetSMOTE_SMOTETabNetOptuna = stats.ttest_rel(BaselineTabNetSMOTE, SMOTETabNetOptuna)\n",
        "t_stat_BaselineTabNet_BaselineTabNetSMOTE, p_value_BaselineTabNet_BaselineTabNetSMOTE = stats.ttest_rel(BaselineTabNet, BaselineTabNetSMOTE)\n",
        "t_stat_TabNetOptuna_SMOTETabNetOptuna, p_value_TabNetOptuna_SMOTETabNetOptuna = stats.ttest_rel(TabNetOptuna, SMOTETabNetOptuna)"
      ]
    },
    {
      "cell_type": "code",
      "execution_count": null,
      "metadata": {
        "colab": {
          "base_uri": "https://localhost:8080/"
        },
        "id": "AGxio-ag9PPR",
        "outputId": "db3ab8fa-d095-4d79-eae4-33a7ff883a10"
      },
      "outputs": [
        {
          "name": "stdout",
          "output_type": "stream",
          "text": [
            "t_stat baseline tabnet and tabnet + optuna : -9.737901636577233, p_value baseline tabnet and tabnet + optuna : 8.059138215945723e-09\n",
            "t_stat baseline tabnet smote and tabnet + smote tabnet optuna : -15.83335263938779, p_value baseline tabnet and tabnet + optuna : 2.118488251888348e-12\n",
            "t_stat baseline tabnet and baseline tabnet smote : 2.6656877893506303, p_value baseline tabnet and baseline tabnet smote : 0.015277388992286242\n",
            "t_stat tabnet optuna and smote tabnet optuna : -5.930645754207815, p_value tabnet optuna and smote tabnet optuna : 1.0406562560693789e-05\n"
          ]
        }
      ],
      "source": [
        "print(f\"t_stat baseline tabnet and tabnet + optuna : {t_stat_BaselineTabNet_TabNetOptuna}, p_value baseline tabnet and tabnet + optuna : {p_value_BaselineTabNet_TabNetOptuna}\")\n",
        "print(f\"t_stat baseline tabnet smote and tabnet + smote tabnet optuna : {t_stat_BaselineTabNetSMOTE_SMOTETabNetOptuna}, p_value baseline tabnet and tabnet + optuna : {p_value_BaselineTabNetSMOTE_SMOTETabNetOptuna}\")\n",
        "print(f\"t_stat baseline tabnet and baseline tabnet smote : {t_stat_BaselineTabNet_BaselineTabNetSMOTE}, p_value baseline tabnet and baseline tabnet smote : {p_value_BaselineTabNet_BaselineTabNetSMOTE}\")\n",
        "print(f\"t_stat tabnet optuna and smote tabnet optuna : {t_stat_TabNetOptuna_SMOTETabNetOptuna}, p_value tabnet optuna and smote tabnet optuna : {p_value_TabNetOptuna_SMOTETabNetOptuna}\")"
      ]
    }
  ],
  "metadata": {
    "colab": {
      "provenance": []
    },
    "kernelspec": {
      "display_name": "Python 3",
      "name": "python3"
    },
    "language_info": {
      "name": "python"
    }
  },
  "nbformat": 4,
  "nbformat_minor": 0
}
